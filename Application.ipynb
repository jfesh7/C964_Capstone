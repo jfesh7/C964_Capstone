{
 "cells": [
  {
   "cell_type": "markdown",
   "id": "a0a4ecbe-ab42-477b-ad14-b802ea6dce34",
   "metadata": {},
   "source": [
    "<h1>Insurance Charges Analyzation and Prediction Model</h1>"
   ]
  },
  {
   "cell_type": "markdown",
   "id": "f1629a6c-bf59-4cf0-a0a5-fe09aed89e4b",
   "metadata": {},
   "source": [
    "<h3>Introduction</h3>"
   ]
  },
  {
   "cell_type": "markdown",
   "id": "feec3f8f-f1e1-4eea-b786-7f0c332db536",
   "metadata": {},
   "source": [
    "<p>This application will analyze patient data and explore trends between different patient demographics and their overall healthcare charges. The application will first load data and explore basic features, distributions, and correlations with charts and visualizations. After that, the applicatoin will split data into training and testing sets and develop a linear regression prediction model. This model will allow users to predict healthcare charges with patient demographics. A basic user interface will be available at the end of the application to allow users to input demographics and get charge predictions.</p>\n",
    "<p>To get started, the application import all necessary libraries, tools, and functions.</p>"
   ]
  },
  {
   "cell_type": "code",
   "execution_count": 1,
   "id": "d1fec7ce-a0e3-4a0d-9d87-daa952378d83",
   "metadata": {},
   "outputs": [],
   "source": [
    "import pandas as pd\n",
    "import numpy as np\n",
    "import matplotlib.pyplot as plt\n",
    "import seaborn as sns\n",
    "from sklearn.model_selection import train_test_split\n",
    "from sklearn.preprocessing import StandardScaler\n",
    "from sklearn.linear_model import LinearRegression\n",
    "from sklearn import metrics\n",
    "%matplotlib inline"
   ]
  },
  {
   "cell_type": "markdown",
   "id": "7246ea40-1420-4a0a-8fc6-0d8d5fe58247",
   "metadata": {},
   "source": [
    "Load dataset and display sample"
   ]
  },
  {
   "cell_type": "code",
   "execution_count": 2,
   "id": "451c18f1-bc18-439c-a82b-8b94c17b4b54",
   "metadata": {},
   "outputs": [
    {
     "data": {
      "text/html": [
       "<div>\n",
       "<style scoped>\n",
       "    .dataframe tbody tr th:only-of-type {\n",
       "        vertical-align: middle;\n",
       "    }\n",
       "\n",
       "    .dataframe tbody tr th {\n",
       "        vertical-align: top;\n",
       "    }\n",
       "\n",
       "    .dataframe thead th {\n",
       "        text-align: right;\n",
       "    }\n",
       "</style>\n",
       "<table border=\"1\" class=\"dataframe\">\n",
       "  <thead>\n",
       "    <tr style=\"text-align: right;\">\n",
       "      <th></th>\n",
       "      <th>age</th>\n",
       "      <th>sex</th>\n",
       "      <th>bmi</th>\n",
       "      <th>children</th>\n",
       "      <th>smoker</th>\n",
       "      <th>region</th>\n",
       "      <th>charges</th>\n",
       "    </tr>\n",
       "  </thead>\n",
       "  <tbody>\n",
       "    <tr>\n",
       "      <th>0</th>\n",
       "      <td>19</td>\n",
       "      <td>female</td>\n",
       "      <td>27.900</td>\n",
       "      <td>0</td>\n",
       "      <td>yes</td>\n",
       "      <td>southwest</td>\n",
       "      <td>16884.92400</td>\n",
       "    </tr>\n",
       "    <tr>\n",
       "      <th>1</th>\n",
       "      <td>18</td>\n",
       "      <td>male</td>\n",
       "      <td>33.770</td>\n",
       "      <td>1</td>\n",
       "      <td>no</td>\n",
       "      <td>southeast</td>\n",
       "      <td>1725.55230</td>\n",
       "    </tr>\n",
       "    <tr>\n",
       "      <th>2</th>\n",
       "      <td>28</td>\n",
       "      <td>male</td>\n",
       "      <td>33.000</td>\n",
       "      <td>3</td>\n",
       "      <td>no</td>\n",
       "      <td>southeast</td>\n",
       "      <td>4449.46200</td>\n",
       "    </tr>\n",
       "    <tr>\n",
       "      <th>3</th>\n",
       "      <td>33</td>\n",
       "      <td>male</td>\n",
       "      <td>22.705</td>\n",
       "      <td>0</td>\n",
       "      <td>no</td>\n",
       "      <td>northwest</td>\n",
       "      <td>21984.47061</td>\n",
       "    </tr>\n",
       "    <tr>\n",
       "      <th>4</th>\n",
       "      <td>32</td>\n",
       "      <td>male</td>\n",
       "      <td>28.880</td>\n",
       "      <td>0</td>\n",
       "      <td>no</td>\n",
       "      <td>northwest</td>\n",
       "      <td>3866.85520</td>\n",
       "    </tr>\n",
       "  </tbody>\n",
       "</table>\n",
       "</div>"
      ],
      "text/plain": [
       "   age     sex     bmi  children smoker     region      charges\n",
       "0   19  female  27.900         0    yes  southwest  16884.92400\n",
       "1   18    male  33.770         1     no  southeast   1725.55230\n",
       "2   28    male  33.000         3     no  southeast   4449.46200\n",
       "3   33    male  22.705         0     no  northwest  21984.47061\n",
       "4   32    male  28.880         0     no  northwest   3866.85520"
      ]
     },
     "execution_count": 2,
     "metadata": {},
     "output_type": "execute_result"
    }
   ],
   "source": [
    "raw_data = pd.read_csv('insurance.csv')\n",
    "raw_data.head()"
   ]
  },
  {
   "cell_type": "markdown",
   "id": "347f9921-e2a4-4919-9656-440327cf3a8d",
   "metadata": {},
   "source": [
    "Get basic dataset information"
   ]
  },
  {
   "cell_type": "code",
   "execution_count": 3,
   "id": "ab2f560e-5c88-4749-91da-fff458f120b7",
   "metadata": {},
   "outputs": [
    {
     "name": "stdout",
     "output_type": "stream",
     "text": [
      "<class 'pandas.core.frame.DataFrame'>\n",
      "RangeIndex: 1338 entries, 0 to 1337\n",
      "Data columns (total 7 columns):\n",
      " #   Column    Non-Null Count  Dtype  \n",
      "---  ------    --------------  -----  \n",
      " 0   age       1338 non-null   int64  \n",
      " 1   sex       1338 non-null   object \n",
      " 2   bmi       1338 non-null   float64\n",
      " 3   children  1338 non-null   int64  \n",
      " 4   smoker    1338 non-null   object \n",
      " 5   region    1338 non-null   object \n",
      " 6   charges   1338 non-null   float64\n",
      "dtypes: float64(2), int64(2), object(3)\n",
      "memory usage: 73.3+ KB\n"
     ]
    }
   ],
   "source": [
    "raw_data.info()"
   ]
  },
  {
   "cell_type": "code",
   "execution_count": 4,
   "id": "814d66c1-e26a-4989-a357-b4cfce4adfaa",
   "metadata": {},
   "outputs": [
    {
     "data": {
      "text/html": [
       "<div>\n",
       "<style scoped>\n",
       "    .dataframe tbody tr th:only-of-type {\n",
       "        vertical-align: middle;\n",
       "    }\n",
       "\n",
       "    .dataframe tbody tr th {\n",
       "        vertical-align: top;\n",
       "    }\n",
       "\n",
       "    .dataframe thead th {\n",
       "        text-align: right;\n",
       "    }\n",
       "</style>\n",
       "<table border=\"1\" class=\"dataframe\">\n",
       "  <thead>\n",
       "    <tr style=\"text-align: right;\">\n",
       "      <th></th>\n",
       "      <th>age</th>\n",
       "      <th>bmi</th>\n",
       "      <th>children</th>\n",
       "      <th>charges</th>\n",
       "    </tr>\n",
       "  </thead>\n",
       "  <tbody>\n",
       "    <tr>\n",
       "      <th>count</th>\n",
       "      <td>1338.000000</td>\n",
       "      <td>1338.000000</td>\n",
       "      <td>1338.000000</td>\n",
       "      <td>1338.000000</td>\n",
       "    </tr>\n",
       "    <tr>\n",
       "      <th>mean</th>\n",
       "      <td>39.207025</td>\n",
       "      <td>30.663397</td>\n",
       "      <td>1.094918</td>\n",
       "      <td>13270.422265</td>\n",
       "    </tr>\n",
       "    <tr>\n",
       "      <th>std</th>\n",
       "      <td>14.049960</td>\n",
       "      <td>6.098187</td>\n",
       "      <td>1.205493</td>\n",
       "      <td>12110.011237</td>\n",
       "    </tr>\n",
       "    <tr>\n",
       "      <th>min</th>\n",
       "      <td>18.000000</td>\n",
       "      <td>15.960000</td>\n",
       "      <td>0.000000</td>\n",
       "      <td>1121.873900</td>\n",
       "    </tr>\n",
       "    <tr>\n",
       "      <th>25%</th>\n",
       "      <td>27.000000</td>\n",
       "      <td>26.296250</td>\n",
       "      <td>0.000000</td>\n",
       "      <td>4740.287150</td>\n",
       "    </tr>\n",
       "    <tr>\n",
       "      <th>50%</th>\n",
       "      <td>39.000000</td>\n",
       "      <td>30.400000</td>\n",
       "      <td>1.000000</td>\n",
       "      <td>9382.033000</td>\n",
       "    </tr>\n",
       "    <tr>\n",
       "      <th>75%</th>\n",
       "      <td>51.000000</td>\n",
       "      <td>34.693750</td>\n",
       "      <td>2.000000</td>\n",
       "      <td>16639.912515</td>\n",
       "    </tr>\n",
       "    <tr>\n",
       "      <th>max</th>\n",
       "      <td>64.000000</td>\n",
       "      <td>53.130000</td>\n",
       "      <td>5.000000</td>\n",
       "      <td>63770.428010</td>\n",
       "    </tr>\n",
       "  </tbody>\n",
       "</table>\n",
       "</div>"
      ],
      "text/plain": [
       "               age          bmi     children       charges\n",
       "count  1338.000000  1338.000000  1338.000000   1338.000000\n",
       "mean     39.207025    30.663397     1.094918  13270.422265\n",
       "std      14.049960     6.098187     1.205493  12110.011237\n",
       "min      18.000000    15.960000     0.000000   1121.873900\n",
       "25%      27.000000    26.296250     0.000000   4740.287150\n",
       "50%      39.000000    30.400000     1.000000   9382.033000\n",
       "75%      51.000000    34.693750     2.000000  16639.912515\n",
       "max      64.000000    53.130000     5.000000  63770.428010"
      ]
     },
     "execution_count": 4,
     "metadata": {},
     "output_type": "execute_result"
    }
   ],
   "source": [
    "raw_data.describe()"
   ]
  },
  {
   "cell_type": "markdown",
   "id": "aa262180-d505-4c23-9462-aa26bc0e5ff2",
   "metadata": {},
   "source": [
    "<h3>Exploring Dataset</h3>"
   ]
  },
  {
   "cell_type": "markdown",
   "id": "1c612c1b-466b-4188-a48b-e705f9530216",
   "metadata": {},
   "source": [
    "<p>The first figure shows that there is a fairly normal distribution of BMI levels among the patients.</p>"
   ]
  },
  {
   "cell_type": "code",
   "execution_count": 5,
   "id": "9a8fc283-0c14-4d94-84af-25566cf60d45",
   "metadata": {},
   "outputs": [
    {
     "data": {
      "text/plain": [
       "Text(0, 0.5, 'Patients')"
      ]
     },
     "execution_count": 5,
     "metadata": {},
     "output_type": "execute_result"
    },
    {
     "data": {
      "image/png": "[encoded data removed]",
      "text/plain": [
       "<Figure size 640x480 with 1 Axes>"
      ]
     },
     "metadata": {},
     "output_type": "display_data"
    }
   ],
   "source": [
    "plt.hist(raw_data['bmi'], bins=25)\n",
    "plt.title('Body Mass Index Distribution')\n",
    "plt.xlabel('BMI')\n",
    "plt.ylabel('Patients')"
   ]
  },
  {
   "cell_type": "markdown",
   "id": "33b758ea-a0e2-424f-befb-344f4dad6089",
   "metadata": {},
   "source": [
    "<p>The next histogram displays age distribution. It's clear that the data is skewed toward younger patients.</p>"
   ]
  },
  {
   "cell_type": "code",
   "execution_count": 6,
   "id": "ee4894a2-00b7-4c93-a3e3-220942fb2f31",
   "metadata": {},
   "outputs": [
    {
     "data": {
      "text/plain": [
       "Text(0, 0.5, 'Patients')"
      ]
     },
     "execution_count": 6,
     "metadata": {},
     "output_type": "execute_result"
    },
    {
     "data": {
      "image/png": "[encoded data removed]",
      "text/plain": [
       "<Figure size 640x480 with 1 Axes>"
      ]
     },
     "metadata": {},
     "output_type": "display_data"
    }
   ],
   "source": [
    "plt.hist(raw_data['age'], bins=25)\n",
    "plt.title('Age Distribution')\n",
    "plt.xlabel('Age')\n",
    "plt.ylabel('Patients')"
   ]
  },
  {
   "cell_type": "markdown",
   "id": "d3d67e4d-1fbf-420b-b393-c923dd1163a8",
   "metadata": {},
   "source": [
    "<p>Now we compare categorical data with pie charts:</p>"
   ]
  },
  {
   "cell_type": "code",
   "execution_count": 7,
   "id": "7369d09f-ffcb-4a30-8131-12de9da60a71",
   "metadata": {},
   "outputs": [
    {
     "data": {
      "text/plain": [
       "Text(0.5, 1.0, 'Patients by Region')"
      ]
     },
     "execution_count": 7,
     "metadata": {},
     "output_type": "execute_result"
    },
    {
     "data": {
      "image/png": "[encoded data removed]",
      "text/plain": [
       "<Figure size 640x480 with 1 Axes>"
      ]
     },
     "metadata": {},
     "output_type": "display_data"
    }
   ],
   "source": [
    "region_count = raw_data['region'].value_counts()\n",
    "plt.pie(raw_data['region'].value_counts(), labels=region_count.index, autopct=lambda x: str(round(x, 1)) + '%')\n",
    "plt.title('Patients by Region')"
   ]
  },
  {
   "cell_type": "code",
   "execution_count": 8,
   "id": "0f040e0d-e70c-4f4f-858d-02caf31a761c",
   "metadata": {},
   "outputs": [
    {
     "data": {
      "text/plain": [
       "Text(0.5, 1.0, 'Patients with Children')"
      ]
     },
     "execution_count": 8,
     "metadata": {},
     "output_type": "execute_result"
    },
    {
     "data": {
      "image/png": "[encoded data removed]",
      "text/plain": [
       "<Figure size 640x480 with 1 Axes>"
      ]
     },
     "metadata": {},
     "output_type": "display_data"
    }
   ],
   "source": [
    "children_count = raw_data['children'].value_counts()\n",
    "plt.pie(children_count, labels=children_count.index, autopct=lambda x: str(round(x, 1)) + '%')\n",
    "plt.title('Patients with Children')"
   ]
  },
  {
   "cell_type": "markdown",
   "id": "2c0f9b63-77ae-4bea-bb30-08393f83d148",
   "metadata": {},
   "source": [
    "<p>Next we plot the relationship of age and bmi against charges. We also add a color key to explore the variance between smoker and non-smoker data. The data indicates a few things:</p>\n",
    "<ul>\n",
    "    <li>Smokers experience higher overall healthcare charges.</li>\n",
    "    <li>There is a weak positive correlation between age and charges.</li>\n",
    "    <li>There is a stronge positive correlation between bmi and charges for smokers.</li>\n",
    "    <li>There doesn't appear to be any correlation between bmi and charges for non-smokers.</li>\n",
    "</ul>"
   ]
  },
  {
   "cell_type": "code",
   "execution_count": 9,
   "id": "d4fc0245-d34f-4c08-b916-9c69fa3d3d48",
   "metadata": {},
   "outputs": [
    {
     "data": {
      "text/plain": [
       "<seaborn.axisgrid.PairGrid at 0x21bcf35b0e0>"
      ]
     },
     "execution_count": 9,
     "metadata": {},
     "output_type": "execute_result"
    },
    {
     "data": {
      "image/png": "[encoded data removed]",
      "text/plain": [
       "<Figure size 573.875x250 with 2 Axes>"
      ]
     },
     "metadata": {},
     "output_type": "display_data"
    }
   ],
   "source": [
    "sns.pairplot(raw_data, x_vars=['age','bmi'], y_vars='charges', hue='smoker')"
   ]
  },
  {
   "cell_type": "code",
   "execution_count": 10,
   "id": "8ba925f3-1297-44c7-9106-1f51a8716b4a",
   "metadata": {},
   "outputs": [
    {
     "data": {
      "text/plain": [
       "Text(0, 0.5, 'Patients')"
      ]
     },
     "execution_count": 10,
     "metadata": {},
     "output_type": "execute_result"
    },
    {
     "data": {
      "image/png": "[encoded data removed]",
      "text/plain": [
       "<Figure size 640x480 with 1 Axes>"
      ]
     },
     "metadata": {},
     "output_type": "display_data"
    }
   ],
   "source": [
    "plt.hist(raw_data['charges'], bins=25)\n",
    "plt.title('Charges')\n",
    "plt.xlabel('Charges')\n",
    "plt.ylabel('Patients')"
   ]
  },
  {
   "cell_type": "markdown",
   "id": "a502fa20-bdc5-433c-95e1-788ede6caf11",
   "metadata": {},
   "source": [
    "<h3>Preparing and Formatting Dataset</h3>"
   ]
  },
  {
   "cell_type": "markdown",
   "id": "aa3645c1-695e-430f-a7a7-0f062c5ede09",
   "metadata": {},
   "source": [
    "<p>Since the application is using a linear regression model, all non-numerical data must be ignored or numerically formatted. We first create a new dataset by dropping the fields of 'region', 'sex', and 'smoker'. These fields are all non-numerical and cannot be used in to train the model. We then create a series of binary classification fields to signify this data in numerical format. Each of these new fields is added to the new dataset.</p>"
   ]
  },
  {
   "cell_type": "code",
   "execution_count": 11,
   "id": "d21692ef-f9e8-4b49-82a2-2b5a98bf6fe2",
   "metadata": {},
   "outputs": [],
   "source": [
    "new_data = raw_data.drop(['region','sex','smoker'], axis=1)"
   ]
  },
  {
   "cell_type": "code",
   "execution_count": 12,
   "id": "af362374-5bf1-468c-8094-77179b316e7f",
   "metadata": {},
   "outputs": [],
   "source": [
    "#Function to format category fields into binary field sets\n",
    "def field_check(target, region):\n",
    "    if region == target:\n",
    "        return 1\n",
    "    return 0"
   ]
  },
  {
   "cell_type": "code",
   "execution_count": 13,
   "id": "b61cf505-6635-40aa-a300-6de95c45457a",
   "metadata": {},
   "outputs": [],
   "source": [
    "new_data['region_ne'] = raw_data['region'].apply(lambda x: field_check(x, 'northeast'))"
   ]
  },
  {
   "cell_type": "code",
   "execution_count": 14,
   "id": "10908a31-e8c6-4e6c-bd26-42fb47a548b4",
   "metadata": {},
   "outputs": [],
   "source": [
    "new_data['region_se'] = raw_data['region'].apply(lambda x: field_check(x, 'southeast'))"
   ]
  },
  {
   "cell_type": "code",
   "execution_count": 15,
   "id": "ec385c46-abeb-4990-9f42-f64ea008371b",
   "metadata": {},
   "outputs": [],
   "source": [
    "new_data['region_sw'] = raw_data['region'].apply(lambda x: field_check(x, 'southwest'))"
   ]
  },
  {
   "cell_type": "code",
   "execution_count": 16,
   "id": "ba86d05e-2a84-4350-b6ac-0bdd1f714121",
   "metadata": {},
   "outputs": [],
   "source": [
    "new_data['region_nw'] = raw_data['region'].apply(lambda x: field_check(x, 'northwest'))"
   ]
  },
  {
   "cell_type": "code",
   "execution_count": 17,
   "id": "ab270a68-ae9a-49fc-a16f-d9b05c043ba1",
   "metadata": {},
   "outputs": [],
   "source": [
    "new_data['sex'] = raw_data['sex'].apply(lambda x: field_check(x, 'male'))"
   ]
  },
  {
   "cell_type": "code",
   "execution_count": 18,
   "id": "54ca0b4b-0619-4102-8454-051f06c72da9",
   "metadata": {},
   "outputs": [],
   "source": [
    "new_data['smoker'] = raw_data['smoker'].apply(lambda x: field_check(x, 'yes'))"
   ]
  },
  {
   "cell_type": "markdown",
   "id": "7febeb9a-0c4d-422d-86f8-87f1bfc482f7",
   "metadata": {},
   "source": [
    "<p>A sample of the new formatted dataset is displayed below:</p>"
   ]
  },
  {
   "cell_type": "code",
   "execution_count": 19,
   "id": "ac413af9-15b1-43de-ae92-38046e7b9b53",
   "metadata": {},
   "outputs": [
    {
     "data": {
      "text/html": [
       "<div>\n",
       "<style scoped>\n",
       "    .dataframe tbody tr th:only-of-type {\n",
       "        vertical-align: middle;\n",
       "    }\n",
       "\n",
       "    .dataframe tbody tr th {\n",
       "        vertical-align: top;\n",
       "    }\n",
       "\n",
       "    .dataframe thead th {\n",
       "        text-align: right;\n",
       "    }\n",
       "</style>\n",
       "<table border=\"1\" class=\"dataframe\">\n",
       "  <thead>\n",
       "    <tr style=\"text-align: right;\">\n",
       "      <th></th>\n",
       "      <th>age</th>\n",
       "      <th>bmi</th>\n",
       "      <th>children</th>\n",
       "      <th>charges</th>\n",
       "      <th>region_ne</th>\n",
       "      <th>region_se</th>\n",
       "      <th>region_sw</th>\n",
       "      <th>region_nw</th>\n",
       "      <th>sex</th>\n",
       "      <th>smoker</th>\n",
       "    </tr>\n",
       "  </thead>\n",
       "  <tbody>\n",
       "    <tr>\n",
       "      <th>0</th>\n",
       "      <td>19</td>\n",
       "      <td>27.900</td>\n",
       "      <td>0</td>\n",
       "      <td>16884.92400</td>\n",
       "      <td>0</td>\n",
       "      <td>0</td>\n",
       "      <td>1</td>\n",
       "      <td>0</td>\n",
       "      <td>0</td>\n",
       "      <td>1</td>\n",
       "    </tr>\n",
       "    <tr>\n",
       "      <th>1</th>\n",
       "      <td>18</td>\n",
       "      <td>33.770</td>\n",
       "      <td>1</td>\n",
       "      <td>1725.55230</td>\n",
       "      <td>0</td>\n",
       "      <td>1</td>\n",
       "      <td>0</td>\n",
       "      <td>0</td>\n",
       "      <td>1</td>\n",
       "      <td>0</td>\n",
       "    </tr>\n",
       "    <tr>\n",
       "      <th>2</th>\n",
       "      <td>28</td>\n",
       "      <td>33.000</td>\n",
       "      <td>3</td>\n",
       "      <td>4449.46200</td>\n",
       "      <td>0</td>\n",
       "      <td>1</td>\n",
       "      <td>0</td>\n",
       "      <td>0</td>\n",
       "      <td>1</td>\n",
       "      <td>0</td>\n",
       "    </tr>\n",
       "    <tr>\n",
       "      <th>3</th>\n",
       "      <td>33</td>\n",
       "      <td>22.705</td>\n",
       "      <td>0</td>\n",
       "      <td>21984.47061</td>\n",
       "      <td>0</td>\n",
       "      <td>0</td>\n",
       "      <td>0</td>\n",
       "      <td>1</td>\n",
       "      <td>1</td>\n",
       "      <td>0</td>\n",
       "    </tr>\n",
       "    <tr>\n",
       "      <th>4</th>\n",
       "      <td>32</td>\n",
       "      <td>28.880</td>\n",
       "      <td>0</td>\n",
       "      <td>3866.85520</td>\n",
       "      <td>0</td>\n",
       "      <td>0</td>\n",
       "      <td>0</td>\n",
       "      <td>1</td>\n",
       "      <td>1</td>\n",
       "      <td>0</td>\n",
       "    </tr>\n",
       "  </tbody>\n",
       "</table>\n",
       "</div>"
      ],
      "text/plain": [
       "   age     bmi  children      charges  region_ne  region_se  region_sw  \\\n",
       "0   19  27.900         0  16884.92400          0          0          1   \n",
       "1   18  33.770         1   1725.55230          0          1          0   \n",
       "2   28  33.000         3   4449.46200          0          1          0   \n",
       "3   33  22.705         0  21984.47061          0          0          0   \n",
       "4   32  28.880         0   3866.85520          0          0          0   \n",
       "\n",
       "   region_nw  sex  smoker  \n",
       "0          0    0       1  \n",
       "1          0    1       0  \n",
       "2          0    1       0  \n",
       "3          1    1       0  \n",
       "4          1    1       0  "
      ]
     },
     "execution_count": 19,
     "metadata": {},
     "output_type": "execute_result"
    }
   ],
   "source": [
    "new_data.head()"
   ]
  },
  {
   "cell_type": "markdown",
   "id": "73cc67c6-6c62-4b68-b9d0-d27bf5e6b928",
   "metadata": {},
   "source": [
    "<h3>Training the Model</h3>"
   ]
  },
  {
   "cell_type": "code",
   "execution_count": 20,
   "id": "c82ce78a-5d13-47a4-a45e-9cd602731a23",
   "metadata": {},
   "outputs": [],
   "source": [
    "lm = LinearRegression()\n",
    "X = new_data[['age','bmi','children','region_ne','region_se','region_sw','region_nw', 'sex', 'smoker']]\n",
    "y = new_data['charges']"
   ]
  },
  {
   "cell_type": "code",
   "execution_count": 21,
   "id": "effcd030-268d-439d-bded-7cb50e0b1005",
   "metadata": {},
   "outputs": [],
   "source": [
    "X_train, X_test, y_train, y_test = train_test_split(X, y, test_size=0.2, random_state=42)"
   ]
  },
  {
   "cell_type": "code",
   "execution_count": 22,
   "id": "7c70f674-9a50-439a-be2c-ce2c5e070057",
   "metadata": {},
   "outputs": [
    {
     "data": {
      "text/html": [
       "<style>#sk-container-id-1 {\n",
       "  /* Definition of color scheme common for light and dark mode */\n",
       "  --sklearn-color-text: #000;\n",
       "  --sklearn-color-text-muted: #666;\n",
       "  --sklearn-color-line: gray;\n",
       "  /* Definition of color scheme for unfitted estimators */\n",
       "  --sklearn-color-unfitted-level-0: #fff5e6;\n",
       "  --sklearn-color-unfitted-level-1: #f6e4d2;\n",
       "  --sklearn-color-unfitted-level-2: #ffe0b3;\n",
       "  --sklearn-color-unfitted-level-3: chocolate;\n",
       "  /* Definition of color scheme for fitted estimators */\n",
       "  --sklearn-color-fitted-level-0: #f0f8ff;\n",
       "  --sklearn-color-fitted-level-1: #d4ebff;\n",
       "  --sklearn-color-fitted-level-2: #b3dbfd;\n",
       "  --sklearn-color-fitted-level-3: cornflowerblue;\n",
       "\n",
       "  /* Specific color for light theme */\n",
       "  --sklearn-color-text-on-default-background: var(--sg-text-color, var(--theme-code-foreground, var(--jp-content-font-color1, black)));\n",
       "  --sklearn-color-background: var(--sg-background-color, var(--theme-background, var(--jp-layout-color0, white)));\n",
       "  --sklearn-color-border-box: var(--sg-text-color, var(--theme-code-foreground, var(--jp-content-font-color1, black)));\n",
       "  --sklearn-color-icon: #696969;\n",
       "\n",
       "  @media (prefers-color-scheme: dark) {\n",
       "    /* Redefinition of color scheme for dark theme */\n",
       "    --sklearn-color-text-on-default-background: var(--sg-text-color, var(--theme-code-foreground, var(--jp-content-font-color1, white)));\n",
       "    --sklearn-color-background: var(--sg-background-color, var(--theme-background, var(--jp-layout-color0, #111)));\n",
       "    --sklearn-color-border-box: var(--sg-text-color, var(--theme-code-foreground, var(--jp-content-font-color1, white)));\n",
       "    --sklearn-color-icon: #878787;\n",
       "  }\n",
       "}\n",
       "\n",
       "#sk-container-id-1 {\n",
       "  color: var(--sklearn-color-text);\n",
       "}\n",
       "\n",
       "#sk-container-id-1 pre {\n",
       "  padding: 0;\n",
       "}\n",
       "\n",
       "#sk-container-id-1 input.sk-hidden--visually {\n",
       "  border: 0;\n",
       "  clip: rect(1px 1px 1px 1px);\n",
       "  clip: rect(1px, 1px, 1px, 1px);\n",
       "  height: 1px;\n",
       "  margin: -1px;\n",
       "  overflow: hidden;\n",
       "  padding: 0;\n",
       "  position: absolute;\n",
       "  width: 1px;\n",
       "}\n",
       "\n",
       "#sk-container-id-1 div.sk-dashed-wrapped {\n",
       "  border: 1px dashed var(--sklearn-color-line);\n",
       "  margin: 0 0.4em 0.5em 0.4em;\n",
       "  box-sizing: border-box;\n",
       "  padding-bottom: 0.4em;\n",
       "  background-color: var(--sklearn-color-background);\n",
       "}\n",
       "\n",
       "#sk-container-id-1 div.sk-container {\n",
       "  /* jupyter's `normalize.less` sets `[hidden] { display: none; }`\n",
       "     but bootstrap.min.css set `[hidden] { display: none !important; }`\n",
       "     so we also need the `!important` here to be able to override the\n",
       "     default hidden behavior on the sphinx rendered scikit-learn.org.\n",
       "     See: https://github.com/scikit-learn/scikit-learn/issues/21755 */\n",
       "  display: inline-block !important;\n",
       "  position: relative;\n",
       "}\n",
       "\n",
       "#sk-container-id-1 div.sk-text-repr-fallback {\n",
       "  display: none;\n",
       "}\n",
       "\n",
       "div.sk-parallel-item,\n",
       "div.sk-serial,\n",
       "div.sk-item {\n",
       "  /* draw centered vertical line to link estimators */\n",
       "  background-image: linear-gradient(var(--sklearn-color-text-on-default-background), var(--sklearn-color-text-on-default-background));\n",
       "  background-size: 2px 100%;\n",
       "  background-repeat: no-repeat;\n",
       "  background-position: center center;\n",
       "}\n",
       "\n",
       "/* Parallel-specific style estimator block */\n",
       "\n",
       "#sk-container-id-1 div.sk-parallel-item::after {\n",
       "  content: \"\";\n",
       "  width: 100%;\n",
       "  border-bottom: 2px solid var(--sklearn-color-text-on-default-background);\n",
       "  flex-grow: 1;\n",
       "}\n",
       "\n",
       "#sk-container-id-1 div.sk-parallel {\n",
       "  display: flex;\n",
       "  align-items: stretch;\n",
       "  justify-content: center;\n",
       "  background-color: var(--sklearn-color-background);\n",
       "  position: relative;\n",
       "}\n",
       "\n",
       "#sk-container-id-1 div.sk-parallel-item {\n",
       "  display: flex;\n",
       "  flex-direction: column;\n",
       "}\n",
       "\n",
       "#sk-container-id-1 div.sk-parallel-item:first-child::after {\n",
       "  align-self: flex-end;\n",
       "  width: 50%;\n",
       "}\n",
       "\n",
       "#sk-container-id-1 div.sk-parallel-item:last-child::after {\n",
       "  align-self: flex-start;\n",
       "  width: 50%;\n",
       "}\n",
       "\n",
       "#sk-container-id-1 div.sk-parallel-item:only-child::after {\n",
       "  width: 0;\n",
       "}\n",
       "\n",
       "/* Serial-specific style estimator block */\n",
       "\n",
       "#sk-container-id-1 div.sk-serial {\n",
       "  display: flex;\n",
       "  flex-direction: column;\n",
       "  align-items: center;\n",
       "  background-color: var(--sklearn-color-background);\n",
       "  padding-right: 1em;\n",
       "  padding-left: 1em;\n",
       "}\n",
       "\n",
       "\n",
       "/* Toggleable style: style used for estimator/Pipeline/ColumnTransformer box that is\n",
       "clickable and can be expanded/collapsed.\n",
       "- Pipeline and ColumnTransformer use this feature and define the default style\n",
       "- Estimators will overwrite some part of the style using the `sk-estimator` class\n",
       "*/\n",
       "\n",
       "/* Pipeline and ColumnTransformer style (default) */\n",
       "\n",
       "#sk-container-id-1 div.sk-toggleable {\n",
       "  /* Default theme specific background. It is overwritten whether we have a\n",
       "  specific estimator or a Pipeline/ColumnTransformer */\n",
       "  background-color: var(--sklearn-color-background);\n",
       "}\n",
       "\n",
       "/* Toggleable label */\n",
       "#sk-container-id-1 label.sk-toggleable__label {\n",
       "  cursor: pointer;\n",
       "  display: flex;\n",
       "  width: 100%;\n",
       "  margin-bottom: 0;\n",
       "  padding: 0.5em;\n",
       "  box-sizing: border-box;\n",
       "  text-align: center;\n",
       "  align-items: start;\n",
       "  justify-content: space-between;\n",
       "  gap: 0.5em;\n",
       "}\n",
       "\n",
       "#sk-container-id-1 label.sk-toggleable__label .caption {\n",
       "  font-size: 0.6rem;\n",
       "  font-weight: lighter;\n",
       "  color: var(--sklearn-color-text-muted);\n",
       "}\n",
       "\n",
       "#sk-container-id-1 label.sk-toggleable__label-arrow:before {\n",
       "  /* Arrow on the left of the label */\n",
       "  content: \"▸\";\n",
       "  float: left;\n",
       "  margin-right: 0.25em;\n",
       "  color: var(--sklearn-color-icon);\n",
       "}\n",
       "\n",
       "#sk-container-id-1 label.sk-toggleable__label-arrow:hover:before {\n",
       "  color: var(--sklearn-color-text);\n",
       "}\n",
       "\n",
       "/* Toggleable content - dropdown */\n",
       "\n",
       "#sk-container-id-1 div.sk-toggleable__content {\n",
       "  max-height: 0;\n",
       "  max-width: 0;\n",
       "  overflow: hidden;\n",
       "  text-align: left;\n",
       "  /* unfitted */\n",
       "  background-color: var(--sklearn-color-unfitted-level-0);\n",
       "}\n",
       "\n",
       "#sk-container-id-1 div.sk-toggleable__content.fitted {\n",
       "  /* fitted */\n",
       "  background-color: var(--sklearn-color-fitted-level-0);\n",
       "}\n",
       "\n",
       "#sk-container-id-1 div.sk-toggleable__content pre {\n",
       "  margin: 0.2em;\n",
       "  border-radius: 0.25em;\n",
       "  color: var(--sklearn-color-text);\n",
       "  /* unfitted */\n",
       "  background-color: var(--sklearn-color-unfitted-level-0);\n",
       "}\n",
       "\n",
       "#sk-container-id-1 div.sk-toggleable__content.fitted pre {\n",
       "  /* unfitted */\n",
       "  background-color: var(--sklearn-color-fitted-level-0);\n",
       "}\n",
       "\n",
       "#sk-container-id-1 input.sk-toggleable__control:checked~div.sk-toggleable__content {\n",
       "  /* Expand drop-down */\n",
       "  max-height: 200px;\n",
       "  max-width: 100%;\n",
       "  overflow: auto;\n",
       "}\n",
       "\n",
       "#sk-container-id-1 input.sk-toggleable__control:checked~label.sk-toggleable__label-arrow:before {\n",
       "  content: \"▾\";\n",
       "}\n",
       "\n",
       "/* Pipeline/ColumnTransformer-specific style */\n",
       "\n",
       "#sk-container-id-1 div.sk-label input.sk-toggleable__control:checked~label.sk-toggleable__label {\n",
       "  color: var(--sklearn-color-text);\n",
       "  background-color: var(--sklearn-color-unfitted-level-2);\n",
       "}\n",
       "\n",
       "#sk-container-id-1 div.sk-label.fitted input.sk-toggleable__control:checked~label.sk-toggleable__label {\n",
       "  background-color: var(--sklearn-color-fitted-level-2);\n",
       "}\n",
       "\n",
       "/* Estimator-specific style */\n",
       "\n",
       "/* Colorize estimator box */\n",
       "#sk-container-id-1 div.sk-estimator input.sk-toggleable__control:checked~label.sk-toggleable__label {\n",
       "  /* unfitted */\n",
       "  background-color: var(--sklearn-color-unfitted-level-2);\n",
       "}\n",
       "\n",
       "#sk-container-id-1 div.sk-estimator.fitted input.sk-toggleable__control:checked~label.sk-toggleable__label {\n",
       "  /* fitted */\n",
       "  background-color: var(--sklearn-color-fitted-level-2);\n",
       "}\n",
       "\n",
       "#sk-container-id-1 div.sk-label label.sk-toggleable__label,\n",
       "#sk-container-id-1 div.sk-label label {\n",
       "  /* The background is the default theme color */\n",
       "  color: var(--sklearn-color-text-on-default-background);\n",
       "}\n",
       "\n",
       "/* On hover, darken the color of the background */\n",
       "#sk-container-id-1 div.sk-label:hover label.sk-toggleable__label {\n",
       "  color: var(--sklearn-color-text);\n",
       "  background-color: var(--sklearn-color-unfitted-level-2);\n",
       "}\n",
       "\n",
       "/* Label box, darken color on hover, fitted */\n",
       "#sk-container-id-1 div.sk-label.fitted:hover label.sk-toggleable__label.fitted {\n",
       "  color: var(--sklearn-color-text);\n",
       "  background-color: var(--sklearn-color-fitted-level-2);\n",
       "}\n",
       "\n",
       "/* Estimator label */\n",
       "\n",
       "#sk-container-id-1 div.sk-label label {\n",
       "  font-family: monospace;\n",
       "  font-weight: bold;\n",
       "  display: inline-block;\n",
       "  line-height: 1.2em;\n",
       "}\n",
       "\n",
       "#sk-container-id-1 div.sk-label-container {\n",
       "  text-align: center;\n",
       "}\n",
       "\n",
       "/* Estimator-specific */\n",
       "#sk-container-id-1 div.sk-estimator {\n",
       "  font-family: monospace;\n",
       "  border: 1px dotted var(--sklearn-color-border-box);\n",
       "  border-radius: 0.25em;\n",
       "  box-sizing: border-box;\n",
       "  margin-bottom: 0.5em;\n",
       "  /* unfitted */\n",
       "  background-color: var(--sklearn-color-unfitted-level-0);\n",
       "}\n",
       "\n",
       "#sk-container-id-1 div.sk-estimator.fitted {\n",
       "  /* fitted */\n",
       "  background-color: var(--sklearn-color-fitted-level-0);\n",
       "}\n",
       "\n",
       "/* on hover */\n",
       "#sk-container-id-1 div.sk-estimator:hover {\n",
       "  /* unfitted */\n",
       "  background-color: var(--sklearn-color-unfitted-level-2);\n",
       "}\n",
       "\n",
       "#sk-container-id-1 div.sk-estimator.fitted:hover {\n",
       "  /* fitted */\n",
       "  background-color: var(--sklearn-color-fitted-level-2);\n",
       "}\n",
       "\n",
       "/* Specification for estimator info (e.g. \"i\" and \"?\") */\n",
       "\n",
       "/* Common style for \"i\" and \"?\" */\n",
       "\n",
       ".sk-estimator-doc-link,\n",
       "a:link.sk-estimator-doc-link,\n",
       "a:visited.sk-estimator-doc-link {\n",
       "  float: right;\n",
       "  font-size: smaller;\n",
       "  line-height: 1em;\n",
       "  font-family: monospace;\n",
       "  background-color: var(--sklearn-color-background);\n",
       "  border-radius: 1em;\n",
       "  height: 1em;\n",
       "  width: 1em;\n",
       "  text-decoration: none !important;\n",
       "  margin-left: 0.5em;\n",
       "  text-align: center;\n",
       "  /* unfitted */\n",
       "  border: var(--sklearn-color-unfitted-level-1) 1pt solid;\n",
       "  color: var(--sklearn-color-unfitted-level-1);\n",
       "}\n",
       "\n",
       ".sk-estimator-doc-link.fitted,\n",
       "a:link.sk-estimator-doc-link.fitted,\n",
       "a:visited.sk-estimator-doc-link.fitted {\n",
       "  /* fitted */\n",
       "  border: var(--sklearn-color-fitted-level-1) 1pt solid;\n",
       "  color: var(--sklearn-color-fitted-level-1);\n",
       "}\n",
       "\n",
       "/* On hover */\n",
       "div.sk-estimator:hover .sk-estimator-doc-link:hover,\n",
       ".sk-estimator-doc-link:hover,\n",
       "div.sk-label-container:hover .sk-estimator-doc-link:hover,\n",
       ".sk-estimator-doc-link:hover {\n",
       "  /* unfitted */\n",
       "  background-color: var(--sklearn-color-unfitted-level-3);\n",
       "  color: var(--sklearn-color-background);\n",
       "  text-decoration: none;\n",
       "}\n",
       "\n",
       "div.sk-estimator.fitted:hover .sk-estimator-doc-link.fitted:hover,\n",
       ".sk-estimator-doc-link.fitted:hover,\n",
       "div.sk-label-container:hover .sk-estimator-doc-link.fitted:hover,\n",
       ".sk-estimator-doc-link.fitted:hover {\n",
       "  /* fitted */\n",
       "  background-color: var(--sklearn-color-fitted-level-3);\n",
       "  color: var(--sklearn-color-background);\n",
       "  text-decoration: none;\n",
       "}\n",
       "\n",
       "/* Span, style for the box shown on hovering the info icon */\n",
       ".sk-estimator-doc-link span {\n",
       "  display: none;\n",
       "  z-index: 9999;\n",
       "  position: relative;\n",
       "  font-weight: normal;\n",
       "  right: .2ex;\n",
       "  padding: .5ex;\n",
       "  margin: .5ex;\n",
       "  width: min-content;\n",
       "  min-width: 20ex;\n",
       "  max-width: 50ex;\n",
       "  color: var(--sklearn-color-text);\n",
       "  box-shadow: 2pt 2pt 4pt #999;\n",
       "  /* unfitted */\n",
       "  background: var(--sklearn-color-unfitted-level-0);\n",
       "  border: .5pt solid var(--sklearn-color-unfitted-level-3);\n",
       "}\n",
       "\n",
       ".sk-estimator-doc-link.fitted span {\n",
       "  /* fitted */\n",
       "  background: var(--sklearn-color-fitted-level-0);\n",
       "  border: var(--sklearn-color-fitted-level-3);\n",
       "}\n",
       "\n",
       ".sk-estimator-doc-link:hover span {\n",
       "  display: block;\n",
       "}\n",
       "\n",
       "/* \"?\"-specific style due to the `<a>` HTML tag */\n",
       "\n",
       "#sk-container-id-1 a.estimator_doc_link {\n",
       "  float: right;\n",
       "  font-size: 1rem;\n",
       "  line-height: 1em;\n",
       "  font-family: monospace;\n",
       "  background-color: var(--sklearn-color-background);\n",
       "  border-radius: 1rem;\n",
       "  height: 1rem;\n",
       "  width: 1rem;\n",
       "  text-decoration: none;\n",
       "  /* unfitted */\n",
       "  color: var(--sklearn-color-unfitted-level-1);\n",
       "  border: var(--sklearn-color-unfitted-level-1) 1pt solid;\n",
       "}\n",
       "\n",
       "#sk-container-id-1 a.estimator_doc_link.fitted {\n",
       "  /* fitted */\n",
       "  border: var(--sklearn-color-fitted-level-1) 1pt solid;\n",
       "  color: var(--sklearn-color-fitted-level-1);\n",
       "}\n",
       "\n",
       "/* On hover */\n",
       "#sk-container-id-1 a.estimator_doc_link:hover {\n",
       "  /* unfitted */\n",
       "  background-color: var(--sklearn-color-unfitted-level-3);\n",
       "  color: var(--sklearn-color-background);\n",
       "  text-decoration: none;\n",
       "}\n",
       "\n",
       "#sk-container-id-1 a.estimator_doc_link.fitted:hover {\n",
       "  /* fitted */\n",
       "  background-color: var(--sklearn-color-fitted-level-3);\n",
       "}\n",
       "</style><div id=\"sk-container-id-1\" class=\"sk-top-container\"><div class=\"sk-text-repr-fallback\"><pre>LinearRegression()</pre><b>In a Jupyter environment, please rerun this cell to show the HTML representation or trust the notebook. <br />On GitHub, the HTML representation is unable to render, please try loading this page with nbviewer.org.</b></div><div class=\"sk-container\" hidden><div class=\"sk-item\"><div class=\"sk-estimator fitted sk-toggleable\"><input class=\"sk-toggleable__control sk-hidden--visually\" id=\"sk-estimator-id-1\" type=\"checkbox\" checked><label for=\"sk-estimator-id-1\" class=\"sk-toggleable__label fitted sk-toggleable__label-arrow\"><div><div>LinearRegression</div></div><div><a class=\"sk-estimator-doc-link fitted\" rel=\"noreferrer\" target=\"_blank\" href=\"https://scikit-learn.org/1.6/modules/generated/sklearn.linear_model.LinearRegression.html\">?<span>Documentation for LinearRegression</span></a><span class=\"sk-estimator-doc-link fitted\">i<span>Fitted</span></span></div></label><div class=\"sk-toggleable__content fitted\"><pre>LinearRegression()</pre></div> </div></div></div></div>"
      ],
      "text/plain": [
       "LinearRegression()"
      ]
     },
     "execution_count": 22,
     "metadata": {},
     "output_type": "execute_result"
    }
   ],
   "source": [
    "lm.fit(X_train, y_train)"
   ]
  },
  {
   "cell_type": "code",
   "execution_count": 23,
   "id": "d4b1e94a-3cd0-4f3d-8237-4e6111894935",
   "metadata": {},
   "outputs": [
    {
     "data": {
      "text/plain": [
       "array([ 2.56975706e+02,  3.37092552e+02,  4.25278784e+02,  4.59585244e+02,\n",
       "       -1.98279052e+02, -3.50214110e+02,  8.89079180e+01, -1.85916916e+01,\n",
       "        2.36511289e+04])"
      ]
     },
     "execution_count": 23,
     "metadata": {},
     "output_type": "execute_result"
    }
   ],
   "source": [
    "lm.coef_"
   ]
  },
  {
   "cell_type": "markdown",
   "id": "851b8796-ae83-4c64-bce2-627c0ac09a8b",
   "metadata": {},
   "source": [
    "<h3>Testing the Model</h3>"
   ]
  },
  {
   "cell_type": "code",
   "execution_count": 24,
   "id": "b076c130-4242-428f-9e7b-0b25c168f94f",
   "metadata": {},
   "outputs": [],
   "source": [
    "predictions = lm.predict(X_test)"
   ]
  },
  {
   "cell_type": "markdown",
   "id": "bf3175e7-e3ac-48a9-822c-472cdf67d284",
   "metadata": {},
   "source": [
    "<p>According to the prediction plot below, the model predicts charges slightly higher than the actual test data.</p>"
   ]
  },
  {
   "cell_type": "code",
   "execution_count": 25,
   "id": "60e73ff3-0111-4db6-a755-4a7f93aba175",
   "metadata": {},
   "outputs": [
    {
     "data": {
      "text/plain": [
       "Text(0, 0.5, 'Predicted')"
      ]
     },
     "execution_count": 25,
     "metadata": {},
     "output_type": "execute_result"
    },
    {
     "data": {
      "image/png": "[encoded data removed]",
      "text/plain": [
       "<Figure size 640x480 with 1 Axes>"
      ]
     },
     "metadata": {},
     "output_type": "display_data"
    }
   ],
   "source": [
    "plt.scatter(y_test, predictions)\n",
    "plt.title('Prediction Plot')\n",
    "plt.xlabel('Actual Charges')\n",
    "plt.ylabel('Predicted')"
   ]
  },
  {
   "cell_type": "markdown",
   "id": "097bda46-31cc-4733-a50a-0cfd700465e1",
   "metadata": {},
   "source": [
    "<p>The model can be analyzed further through the following metrics:</p>\n",
    "<ul>\n",
    "    <li>Mean Absolute Error (MAE): The mean error between predicted and actual test values.</li>\n",
    "    <li>Mean Squared Error (MSE): The mean of all errors squared. This value punishes large discrepancies more than MAE.</li>\n",
    "    <li>Mean Root Error (MRE): Square root of mean squared error. Similar use to MSE but with the benefit of the value being measured in same units as data.</li>\n",
    "</ul>"
   ]
  },
  {
   "cell_type": "code",
   "execution_count": 26,
   "id": "68d3de25-0e14-481b-956d-38ab152a9c9b",
   "metadata": {},
   "outputs": [
    {
     "name": "stdout",
     "output_type": "stream",
     "text": [
      "MAE:  4181.0\n",
      "MSE:  33596916.0\n",
      "MRE:  5796.0\n"
     ]
    }
   ],
   "source": [
    "print(\"MAE: \", round(metrics.mean_absolute_error(y_test, predictions), 0))\n",
    "print(\"MSE: \", round(metrics.mean_squared_error(y_test, predictions), 0))\n",
    "print(\"MRE: \", round(np.sqrt(metrics.mean_squared_error(y_test, predictions)), 0))"
   ]
  },
  {
   "cell_type": "markdown",
   "id": "67887404-fb03-416e-a487-b823ac2fdb9b",
   "metadata": {},
   "source": [
    "<p>Finally, the the R2 score will help us understand how well our model fits the dataset. The closer to 1 the score, the better. For our purposes a score above 0.75 will be suitable.</p>"
   ]
  },
  {
   "cell_type": "code",
   "execution_count": 27,
   "id": "d48468e3-a937-494c-bbb2-541316a8ab2e",
   "metadata": {},
   "outputs": [
    {
     "name": "stdout",
     "output_type": "stream",
     "text": [
      "R2:  0.784\n"
     ]
    }
   ],
   "source": [
    "print(\"R2: \", round(metrics.r2_score(y_test, predictions), 3))"
   ]
  },
  {
   "cell_type": "markdown",
   "id": "544f639b-5dd8-4ee3-8edd-85bfa4901c2a",
   "metadata": {},
   "source": [
    "<h2>User Input Setup</h2>"
   ]
  },
  {
   "cell_type": "markdown",
   "id": "932c8a6b-e091-46c9-a611-0767aa1d3cdd",
   "metadata": {},
   "source": [
    "<p>The following class will provide an interface to allow a user to enter patient data and get a prediction:</p>"
   ]
  },
  {
   "cell_type": "code",
   "execution_count": 28,
   "id": "f43dbb4b-9568-418b-939f-86df8f84f85e",
   "metadata": {},
   "outputs": [],
   "source": [
    "class Interface:\n",
    "    #initialize with trained model\n",
    "    def __init__(self, model):\n",
    "        self.model = model\n",
    "\n",
    "    def predict(self, age, sex, bmi, children, smoker, region):\n",
    "        d = {'age':[age], 'bmi':[bmi], 'children':[children], 'region_ne':[], 'region_se':[], 'region_sw':[], 'region_nw':[], 'sex':[], 'smoker':[]}\n",
    "        d['region_ne'].append(field_check(region, 'northeast'))\n",
    "        d['region_se'].append(field_check(region, 'southeast'))\n",
    "        d['region_sw'].append(field_check(region, 'southwest'))\n",
    "        d['region_nw'].append(field_check(region, 'northwest'))\n",
    "        d['sex'].append(field_check(sex, 'male'))\n",
    "        d['smoker'].append(field_check(smoker, True))\n",
    "        rec = pd.DataFrame(d)\n",
    "        prediction = self.model.predict(rec)\n",
    "        return \"Predicted Charges: $\" + str(round(prediction[0], 0))"
   ]
  },
  {
   "cell_type": "code",
   "execution_count": 29,
   "id": "cbe98186-c112-4f3b-b197-41cb529103b5",
   "metadata": {},
   "outputs": [],
   "source": [
    "ui = Interface(lm)"
   ]
  },
  {
   "cell_type": "markdown",
   "id": "338da596-d150-4f51-8c31-1b0724b1287f",
   "metadata": {},
   "source": [
    "<h2>Widget Interface</h2>\n",
    "<p>The following code will setup a simple user interface.</p>"
   ]
  },
  {
   "cell_type": "code",
   "execution_count": 30,
   "id": "243b95c0-a62b-4df0-a47f-5d60b48e27a9",
   "metadata": {},
   "outputs": [],
   "source": [
    "import ipywidgets as widgets\n",
    "from IPython.display import display"
   ]
  },
  {
   "cell_type": "code",
   "execution_count": 31,
   "id": "2d211dca-af39-42f4-adac-9b8589bd0287",
   "metadata": {},
   "outputs": [],
   "source": [
    "age_slider = widgets.IntSlider(\n",
    "    value=18,\n",
    "    min=18,\n",
    "    max=100,\n",
    "    description='Age:',\n",
    "    continuous_update=False,\n",
    "    orientation='horizontal',\n",
    "    readout=True\n",
    ")"
   ]
  },
  {
   "cell_type": "code",
   "execution_count": 32,
   "id": "8880c58f-182f-4eef-8329-e00a7fdebfd6",
   "metadata": {},
   "outputs": [],
   "source": [
    "bmi_box = widgets.BoundedFloatText(\n",
    "    value=25.0,\n",
    "    min=10.0,\n",
    "    max=50.0,\n",
    "    step=0.1,\n",
    "    description='BMI:',\n",
    "    disabled=False\n",
    ")"
   ]
  },
  {
   "cell_type": "code",
   "execution_count": 33,
   "id": "30300287-45ee-4010-9b58-232381649acd",
   "metadata": {},
   "outputs": [],
   "source": [
    "children_slider = widgets.IntSlider(\n",
    "    value=0,\n",
    "    min=0,\n",
    "    max=20,\n",
    "    description='Children',\n",
    "    continuous_update=False,\n",
    "    orientation='horizontal',\n",
    "    readout=True\n",
    ")"
   ]
  },
  {
   "cell_type": "code",
   "execution_count": 34,
   "id": "4cf6ef44-ebf8-4575-aaf6-4246d65cd824",
   "metadata": {},
   "outputs": [],
   "source": [
    "smoker_box = widgets.Checkbox(\n",
    "    value=False,\n",
    "    description='Smoker',\n",
    "    disabled=False\n",
    ")"
   ]
  },
  {
   "cell_type": "code",
   "execution_count": 35,
   "id": "e4da2031-e900-4cdc-b4c2-ba1274f8cda5",
   "metadata": {},
   "outputs": [],
   "source": [
    "sex_selector = widgets.Dropdown(\n",
    "    options=['male', 'female'],\n",
    "    value='male',\n",
    "    description='Sex:',\n",
    "    disabled=False,\n",
    ")\n"
   ]
  },
  {
   "cell_type": "code",
   "execution_count": 36,
   "id": "29b50309-db78-4959-9bdb-e3c093ad747c",
   "metadata": {},
   "outputs": [],
   "source": [
    "region_selector = widgets.Dropdown(\n",
    "    options=['northeast', 'southeast', 'southwest', 'northwest'],\n",
    "    value='northeast',\n",
    "    description='Region:',\n",
    "    disabled=False,\n",
    ")"
   ]
  },
  {
   "cell_type": "code",
   "execution_count": 37,
   "id": "b9f6aea2-47d5-4460-ad5f-6e0e0725eaf3",
   "metadata": {},
   "outputs": [],
   "source": [
    "submit_btn = widgets.Button(\n",
    "    description='Get Prediction',\n",
    "    disabled=False,\n",
    "    button_style='', # 'success', 'info', 'warning', 'danger' or ''\n",
    "    tooltip='Submit',\n",
    ")"
   ]
  },
  {
   "cell_type": "code",
   "execution_count": 38,
   "id": "41a02c93-f581-44b8-abdc-98a9307c22c5",
   "metadata": {},
   "outputs": [],
   "source": [
    "number_inputs = widgets.VBox([age_slider, children_slider, bmi_box])\n",
    "selection_inputs = widgets.VBox([sex_selector, region_selector, smoker_box])\n",
    "input_boxes = widgets.HBox([number_inputs, selection_inputs])\n",
    "output = widgets.Output()"
   ]
  },
  {
   "cell_type": "code",
   "execution_count": 39,
   "id": "9ec56773-ce07-4745-a7f5-fb75209e643e",
   "metadata": {},
   "outputs": [],
   "source": [
    "def on_button_click(btn):\n",
    "    with output:\n",
    "        output.clear_output()\n",
    "        print(ui.predict(age=age_slider.value, sex=sex_selector.value, bmi=bmi_box.value, children=children_slider.value, smoker=smoker_box.value, region=region_selector.value))\n",
    "submit_btn.on_click(on_button_click)"
   ]
  },
  {
   "cell_type": "markdown",
   "id": "f9f1dc6f-9de7-44b5-b540-df666af728b7",
   "metadata": {},
   "source": [
    "<h4>Make a Prediction:</h4>\n",
    "<p>Try the model for yourself!</p>"
   ]
  },
  {
   "cell_type": "code",
   "execution_count": 40,
   "id": "2575c386-7298-4300-8971-60ad9841d852",
   "metadata": {},
   "outputs": [
    {
     "data": {
      "application/vnd.jupyter.widget-view+json": {
       "model_id": "e64fea3338da440b8d61992b925d3981",
       "version_major": 2,
       "version_minor": 0
      },
      "text/plain": [
       "HBox(children=(VBox(children=(IntSlider(value=18, continuous_update=False, description='Age:', min=18), IntSli…"
      ]
     },
     "metadata": {},
     "output_type": "display_data"
    },
    {
     "data": {
      "application/vnd.jupyter.widget-view+json": {
       "model_id": "274804d8e162414eb3f587f59d5a6d88",
       "version_major": 2,
       "version_minor": 0
      },
      "text/plain": [
       "Button(description='Get Prediction', style=ButtonStyle(), tooltip='Submit')"
      ]
     },
     "metadata": {},
     "output_type": "display_data"
    },
    {
     "data": {
      "application/vnd.jupyter.widget-view+json": {
       "model_id": "aae0012f76e94e6f89b6f3a24c3d0fba",
       "version_major": 2,
       "version_minor": 0
      },
      "text/plain": [
       "Output()"
      ]
     },
     "metadata": {},
     "output_type": "display_data"
    }
   ],
   "source": [
    "display(input_boxes, submit_btn, output)"
   ]
  }
 ],
 "metadata": {
  "kernelspec": {
   "display_name": "Python 3 (ipykernel)",
   "language": "python",
   "name": "python3"
  },
  "language_info": {
   "codemirror_mode": {
    "name": "ipython",
    "version": 3
   },
   "file_extension": ".py",
   "mimetype": "text/x-python",
   "name": "python",
   "nbconvert_exporter": "python",
   "pygments_lexer": "ipython3",
   "version": "3.13.2"
  }
 },
 "nbformat": 4,
 "nbformat_minor": 5
}
